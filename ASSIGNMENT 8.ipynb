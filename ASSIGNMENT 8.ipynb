{
  "cells": [
    {
      "cell_type": "markdown",
      "metadata": {
        "id": "xFPjj0I-kugU"
      },
      "source": []
    },
    {
      "cell_type": "code",
      "metadata": {
        "colab": {
          "base_uri": "https://localhost:8080/"
        },
        "id": "PGSw4Jb_kugX",
        "outputId": "2e035f78-3b7d-4c13-848e-96a923760598"
      },
      "source": [
        "# Install Required Libraries\n",
        "!pip install nltk spacy matplotlib --quiet\n",
        "!python -m spacy download en_core_web_sm"
      ],
      "execution_count": 1,
      "outputs": [
        {
          "output_type": "stream",
          "name": "stdout",
          "text": [
            "Collecting en-core-web-sm==3.8.0\n",
            "  Downloading https://github.com/explosion/spacy-models/releases/download/en_core_web_sm-3.8.0/en_core_web_sm-3.8.0-py3-none-any.whl (12.8 MB)\n",
            "\u001b[?25l     \u001b[90m━━━━━━━━━━━━━━━━━━━━━━━━━━━━━━━━━━━━━━━━\u001b[0m \u001b[32m0.0/12.8 MB\u001b[0m \u001b[31m?\u001b[0m eta \u001b[36m-:--:--\u001b[0m\r\u001b[2K     \u001b[91m━━━━━━━━━━━━━━━━\u001b[0m\u001b[91m╸\u001b[0m\u001b[90m━━━━━━━━━━━━━━━━━━━━━━━\u001b[0m \u001b[32m5.4/12.8 MB\u001b[0m \u001b[31m162.1 MB/s\u001b[0m eta \u001b[36m0:00:01\u001b[0m\r\u001b[2K     \u001b[91m━━━━━━━━━━━━━━━━━━━━━━━━━━━━━━━━━━━━━━\u001b[0m\u001b[91m╸\u001b[0m \u001b[32m12.7/12.8 MB\u001b[0m \u001b[31m197.9 MB/s\u001b[0m eta \u001b[36m0:00:01\u001b[0m\r\u001b[2K     \u001b[91m━━━━━━━━━━━━━━━━━━━━━━━━━━━━━━━━━━━━━━\u001b[0m\u001b[91m╸\u001b[0m \u001b[32m12.8/12.8 MB\u001b[0m \u001b[31m191.1 MB/s\u001b[0m eta \u001b[36m0:00:01\u001b[0m\r\u001b[2K     \u001b[90m━━━━━━━━━━━━━━━━━━━━━━━━━━━━━━━━━━━━━━━\u001b[0m \u001b[32m12.8/12.8 MB\u001b[0m \u001b[31m106.3 MB/s\u001b[0m eta \u001b[36m0:00:00\u001b[0m\n",
            "\u001b[?25h\u001b[38;5;2m✔ Download and installation successful\u001b[0m\n",
            "You can now load the package via spacy.load('en_core_web_sm')\n",
            "\u001b[38;5;3m⚠ Restart to reload dependencies\u001b[0m\n",
            "If you are in a Jupyter or Colab notebook, you may need to restart Python in\n",
            "order to load all the package's dependencies. You can do this by selecting the\n",
            "'Restart kernel' or 'Restart runtime' option.\n"
          ]
        }
      ]
    },
    {
      "cell_type": "code",
      "metadata": {
        "colab": {
          "base_uri": "https://localhost:8080/"
        },
        "id": "nFKjybvkkugZ",
        "outputId": "c942b233-1f49-4b6f-96f9-521f7c234e63"
      },
      "source": [
        "# Import Libraries\n",
        "import nltk\n",
        "import string\n",
        "import re\n",
        "import spacy\n",
        "import matplotlib.pyplot as plt\n",
        "from nltk.tokenize import sent_tokenize, word_tokenize\n",
        "from nltk.corpus import stopwords\n",
        "from nltk.stem import PorterStemmer, SnowballStemmer, WordNetLemmatizer\n",
        "from collections import Counter\n",
        "\n",
        "nltk.download('punkt')\n",
        "nltk.download('stopwords')\n",
        "nltk.download('wordnet')\n",
        "nltk.download('averaged_perceptron_tagger')"
      ],
      "execution_count": 2,
      "outputs": [
        {
          "output_type": "stream",
          "name": "stderr",
          "text": [
            "[nltk_data] Downloading package punkt to /root/nltk_data...\n",
            "[nltk_data]   Unzipping tokenizers/punkt.zip.\n",
            "[nltk_data] Downloading package stopwords to /root/nltk_data...\n",
            "[nltk_data]   Unzipping corpora/stopwords.zip.\n",
            "[nltk_data] Downloading package wordnet to /root/nltk_data...\n",
            "[nltk_data] Downloading package averaged_perceptron_tagger to\n",
            "[nltk_data]     /root/nltk_data...\n",
            "[nltk_data]   Unzipping taggers/averaged_perceptron_tagger.zip.\n"
          ]
        },
        {
          "output_type": "execute_result",
          "data": {
            "text/plain": [
              "True"
            ]
          },
          "metadata": {},
          "execution_count": 2
        }
      ]
    },
    {
      "cell_type": "code",
      "metadata": {
        "colab": {
          "base_uri": "https://localhost:8080/"
        },
        "id": "EVhYAsOdkuga",
        "outputId": "a0f07ef1-001f-42f9-aea2-3b564685548e"
      },
      "source": [
        "# Sample Text\n",
        "sample_text = \"\"\"\n",
        "In the floating city of Caelira, scholars recorded history not on paper, but in clouds—encoded through aetheric pulses that shimmered in the sky.\n",
        "Every sunrise, students gathered on crystal balconies to read glowing chronicles drifting across the horizon.\n",
        "The Archivists, cloaked in cobalt robes, were the only ones who could edit the sky’s memory, using instruments that hummed with forgotten frequencies.\n",
        "Rumor had it that one cloud contained the memory of a future not yet lived—a prophecy encrypted by the last Oracle before she vanished into a windstorm.\n",
        "Though many sought it, only those with silence in their hearts and questions in their souls could ever begin to understand its meaning.\n",
        "\"\"\"\n",
        "print(\"Original Text:\\n\", sample_text)"
      ],
      "execution_count": 3,
      "outputs": [
        {
          "output_type": "stream",
          "name": "stdout",
          "text": [
            "Original Text:\n",
            " \n",
            "In the floating city of Caelira, scholars recorded history not on paper, but in clouds—encoded through aetheric pulses that shimmered in the sky.\n",
            "Every sunrise, students gathered on crystal balconies to read glowing chronicles drifting across the horizon.\n",
            "The Archivists, cloaked in cobalt robes, were the only ones who could edit the sky’s memory, using instruments that hummed with forgotten frequencies.\n",
            "Rumor had it that one cloud contained the memory of a future not yet lived—a prophecy encrypted by the last Oracle before she vanished into a windstorm.\n",
            "Though many sought it, only those with silence in their hearts and questions in their souls could ever begin to understand its meaning.\n",
            "\n"
          ]
        }
      ]
    },
    {
      "cell_type": "code",
      "metadata": {
        "colab": {
          "base_uri": "https://localhost:8080/"
        },
        "id": "S3lIyDg0kuga",
        "outputId": "cd96a68d-6490-4cf3-c986-525dde3466ac"
      },
      "source": [
        "# Text Cleaning\n",
        "# Tokenize sentences before cleaning\n",
        "sentences = sent_tokenize(sample_text)\n",
        "\n",
        "cleaned_sentences = []\n",
        "for sentence in sentences:\n",
        "    cleaned_sentence = sentence.lower()\n",
        "    cleaned_sentence = cleaned_sentence.translate(str.maketrans('', '', string.punctuation))\n",
        "    cleaned_sentence = re.sub(r'\\d+', '', cleaned_sentence)\n",
        "    cleaned_sentence = re.sub(r'\\s+', ' ', cleaned_sentence).strip()\n",
        "    if cleaned_sentence:\n",
        "        cleaned_sentences.append(cleaned_sentence)\n",
        "\n",
        "cleaned_text = \" \".join(cleaned_sentences)\n",
        "print(\"Cleaned Text:\\n\", cleaned_text)"
      ],
      "execution_count": 14,
      "outputs": [
        {
          "output_type": "stream",
          "name": "stdout",
          "text": [
            "Cleaned Text:\n",
            " in the floating city of caelira scholars recorded history not on paper but in clouds—encoded through aetheric pulses that shimmered in the sky every sunrise students gathered on crystal balconies to read glowing chronicles drifting across the horizon the archivists cloaked in cobalt robes were the only ones who could edit the sky’s memory using instruments that hummed with forgotten frequencies rumor had it that one cloud contained the memory of a future not yet lived—a prophecy encrypted by the last oracle before she vanished into a windstorm though many sought it only those with silence in their hearts and questions in their souls could ever begin to understand its meaning\n"
          ]
        }
      ]
    },
    {
      "cell_type": "code",
      "metadata": {
        "colab": {
          "base_uri": "https://localhost:8080/"
        },
        "id": "nzWzaKo4kugb",
        "outputId": "a3089d89-8d4a-4ef4-d025-5915b93436fe"
      },
      "source": [
        "# Tokenization\n",
        "words = word_tokenize(cleaned_text)\n",
        "print(\"\\nTokenized Sentences:\\n\", sentences)\n",
        "print(\"\\nTokenized Words:\\n\", words)"
      ],
      "execution_count": 15,
      "outputs": [
        {
          "output_type": "stream",
          "name": "stdout",
          "text": [
            "\n",
            "Tokenized Sentences:\n",
            " ['\\nIn the floating city of Caelira, scholars recorded history not on paper, but in clouds—encoded through aetheric pulses that shimmered in the sky.', 'Every sunrise, students gathered on crystal balconies to read glowing chronicles drifting across the horizon.', 'The Archivists, cloaked in cobalt robes, were the only ones who could edit the sky’s memory, using instruments that hummed with forgotten frequencies.', 'Rumor had it that one cloud contained the memory of a future not yet lived—a prophecy encrypted by the last Oracle before she vanished into a windstorm.', 'Though many sought it, only those with silence in their hearts and questions in their souls could ever begin to understand its meaning.']\n",
            "\n",
            "Tokenized Words:\n",
            " ['in', 'the', 'floating', 'city', 'of', 'caelira', 'scholars', 'recorded', 'history', 'not', 'on', 'paper', 'but', 'in', 'clouds—encoded', 'through', 'aetheric', 'pulses', 'that', 'shimmered', 'in', 'the', 'sky', 'every', 'sunrise', 'students', 'gathered', 'on', 'crystal', 'balconies', 'to', 'read', 'glowing', 'chronicles', 'drifting', 'across', 'the', 'horizon', 'the', 'archivists', 'cloaked', 'in', 'cobalt', 'robes', 'were', 'the', 'only', 'ones', 'who', 'could', 'edit', 'the', 'sky', '’', 's', 'memory', 'using', 'instruments', 'that', 'hummed', 'with', 'forgotten', 'frequencies', 'rumor', 'had', 'it', 'that', 'one', 'cloud', 'contained', 'the', 'memory', 'of', 'a', 'future', 'not', 'yet', 'lived—a', 'prophecy', 'encrypted', 'by', 'the', 'last', 'oracle', 'before', 'she', 'vanished', 'into', 'a', 'windstorm', 'though', 'many', 'sought', 'it', 'only', 'those', 'with', 'silence', 'in', 'their', 'hearts', 'and', 'questions', 'in', 'their', 'souls', 'could', 'ever', 'begin', 'to', 'understand', 'its', 'meaning']\n"
          ]
        }
      ]
    },
    {
      "cell_type": "code",
      "metadata": {
        "colab": {
          "base_uri": "https://localhost:8080/"
        },
        "id": "qec0wWmHkugb",
        "outputId": "8b160f80-67e8-4c73-d072-d4a92d4e1df4"
      },
      "source": [
        "# Stopword Removal\n",
        "stop_words = set(stopwords.words('english'))\n",
        "print(\"\\nWord count before stopword removal:\", len(words))\n",
        "filtered_words = [word for word in words if word not in stop_words]\n",
        "print(\"Word count after stopword removal:\", len(filtered_words))\n",
        "print(\"\\nWords before stopword removal:\\n\", words)\n",
        "print(\"\\nWords after stopword removal:\\n\", filtered_words)"
      ],
      "execution_count": 11,
      "outputs": [
        {
          "output_type": "stream",
          "name": "stdout",
          "text": [
            "\n",
            "Word count before stopword removal: 113\n",
            "Word count after stopword removal: 65\n",
            "\n",
            "Words before stopword removal:\n",
            " ['in', 'the', 'floating', 'city', 'of', 'caelira', 'scholars', 'recorded', 'history', 'not', 'on', 'paper', 'but', 'in', 'clouds—encoded', 'through', 'aetheric', 'pulses', 'that', 'shimmered', 'in', 'the', 'sky', 'every', 'sunrise', 'students', 'gathered', 'on', 'crystal', 'balconies', 'to', 'read', 'glowing', 'chronicles', 'drifting', 'across', 'the', 'horizon', 'the', 'archivists', 'cloaked', 'in', 'cobalt', 'robes', 'were', 'the', 'only', 'ones', 'who', 'could', 'edit', 'the', 'sky', '’', 's', 'memory', 'using', 'instruments', 'that', 'hummed', 'with', 'forgotten', 'frequencies', 'rumor', 'had', 'it', 'that', 'one', 'cloud', 'contained', 'the', 'memory', 'of', 'a', 'future', 'not', 'yet', 'lived—a', 'prophecy', 'encrypted', 'by', 'the', 'last', 'oracle', 'before', 'she', 'vanished', 'into', 'a', 'windstorm', 'though', 'many', 'sought', 'it', 'only', 'those', 'with', 'silence', 'in', 'their', 'hearts', 'and', 'questions', 'in', 'their', 'souls', 'could', 'ever', 'begin', 'to', 'understand', 'its', 'meaning']\n",
            "\n",
            "Words after stopword removal:\n",
            " ['floating', 'city', 'caelira', 'scholars', 'recorded', 'history', 'paper', 'clouds—encoded', 'aetheric', 'pulses', 'shimmered', 'sky', 'every', 'sunrise', 'students', 'gathered', 'crystal', 'balconies', 'read', 'glowing', 'chronicles', 'drifting', 'across', 'horizon', 'archivists', 'cloaked', 'cobalt', 'robes', 'ones', 'could', 'edit', 'sky', '’', 'memory', 'using', 'instruments', 'hummed', 'forgotten', 'frequencies', 'rumor', 'one', 'cloud', 'contained', 'memory', 'future', 'yet', 'lived—a', 'prophecy', 'encrypted', 'last', 'oracle', 'vanished', 'windstorm', 'though', 'many', 'sought', 'silence', 'hearts', 'questions', 'souls', 'could', 'ever', 'begin', 'understand', 'meaning']\n"
          ]
        }
      ]
    },
    {
      "cell_type": "code",
      "metadata": {
        "colab": {
          "base_uri": "https://localhost:8080/"
        },
        "id": "hC6rnAl4kugc",
        "outputId": "0b48bd08-6c4e-4ed9-e177-101bccc05546"
      },
      "source": [
        "# Stemming and Lemmatization\n",
        "porter = PorterStemmer()\n",
        "snowball = SnowballStemmer(\"english\")\n",
        "lemmatizer = WordNetLemmatizer()\n",
        "sample_words = ['designs', 'founded', 'computers', 'running', 'better', 'flies', 'devices', 'services', 'sold', 'driving']\n",
        "print(f\"{'Word':<15}{'Porter':<15}{'Snowball':<15}{'Lemma'}\")\n",
        "for word in sample_words:\n",
        "    print(f\"{word:<15}{porter.stem(word):<15}{snowball.stem(word):<15}{lemmatizer.lemmatize(word)}\")\n",
        "print(\"\\nLemmatization is better when grammar and context matter.\")"
      ],
      "execution_count": 12,
      "outputs": [
        {
          "output_type": "stream",
          "name": "stdout",
          "text": [
            "Word           Porter         Snowball       Lemma\n",
            "designs        design         design         design\n",
            "founded        found          found          founded\n",
            "computers      comput         comput         computer\n",
            "running        run            run            running\n",
            "better         better         better         better\n",
            "flies          fli            fli            fly\n",
            "devices        devic          devic          device\n",
            "services       servic         servic         service\n",
            "sold           sold           sold           sold\n",
            "driving        drive          drive          driving\n",
            "\n",
            "Lemmatization is better when grammar and context matter.\n"
          ]
        }
      ]
    },
    {
      "cell_type": "code",
      "metadata": {
        "colab": {
          "base_uri": "https://localhost:8080/",
          "height": 607
        },
        "id": "A0NZ7BgYkugc",
        "outputId": "dae00b7b-e293-4833-9878-64593137cbee"
      },
      "source": [
        "# POS Tagging\n",
        "pos_tags = nltk.pos_tag(filtered_words)\n",
        "pos_counts = Counter(tag for word, tag in pos_tags)\n",
        "plt.figure(figsize=(10, 6))\n",
        "plt.bar(pos_counts.keys(), pos_counts.values(), color='skyblue')\n",
        "plt.title('POS Tag Frequency')\n",
        "plt.xlabel('POS Tags')\n",
        "plt.ylabel('Count')\n",
        "plt.xticks(rotation=45)\n",
        "plt.tight_layout()\n",
        "plt.show()"
      ],
      "execution_count": 18,
      "outputs": [
        {
          "output_type": "display_data",
          "data": {
            "text/plain": [
              "<Figure size 1000x600 with 1 Axes>"
            ],
            "image/png": "[encoded data removed]"
          },
          "metadata": {}
        }
      ]
    },
    {
      "cell_type": "code",
      "metadata": {
        "colab": {
          "base_uri": "https://localhost:8080/",
          "height": 348
        },
        "id": "ECA20V94kugd",
        "outputId": "5baf5b58-35f8-4f1d-f43d-d6b8bbb11d00"
      },
      "source": [
        "# Named Entity Recognition (NER)\n",
        "nlp = spacy.load(\"en_core_web_sm\")\n",
        "doc = nlp(sample_text)\n",
        "print(\"\\nNamed Entities:\")\n",
        "for ent in doc.ents:\n",
        "    print(f\"{ent.text:<20} {ent.label_}\")\n",
        "from spacy import displacy\n",
        "displacy.render(doc, style=\"ent\", jupyter=True)"
      ],
      "execution_count": 19,
      "outputs": [
        {
          "output_type": "stream",
          "name": "stdout",
          "text": [
            "\n",
            "Named Entities:\n",
            "Caelira              ORG\n",
            "Archivists           NORP\n",
            "Rumor                PERSON\n",
            "one                  CARDINAL\n",
            "Oracle               PERSON\n"
          ]
        },
        {
          "output_type": "display_data",
          "data": {
            "text/plain": [
              "<IPython.core.display.HTML object>"
            ],
            "text/html": [
              "<span class=\"tex2jax_ignore\"><div class=\"entities\" style=\"line-height: 2.5; direction: ltr\"><br>In the floating city of \n",
              "<mark class=\"entity\" style=\"background: #7aecec; padding: 0.45em 0.6em; margin: 0 0.25em; line-height: 1; border-radius: 0.35em;\">\n",
              "    Caelira\n",
              "    <span style=\"font-size: 0.8em; font-weight: bold; line-height: 1; border-radius: 0.35em; vertical-align: middle; margin-left: 0.5rem\">ORG</span>\n",
              "</mark>\n",
              ", scholars recorded history not on paper, but in clouds—encoded through aetheric pulses that shimmered in the sky.<br>Every sunrise, students gathered on crystal balconies to read glowing chronicles drifting across the horizon.<br>The \n",
              "<mark class=\"entity\" style=\"background: #c887fb; padding: 0.45em 0.6em; margin: 0 0.25em; line-height: 1; border-radius: 0.35em;\">\n",
              "    Archivists\n",
              "    <span style=\"font-size: 0.8em; font-weight: bold; line-height: 1; border-radius: 0.35em; vertical-align: middle; margin-left: 0.5rem\">NORP</span>\n",
              "</mark>\n",
              ", cloaked in cobalt robes, were the only ones who could edit the sky’s memory, using instruments that hummed with forgotten frequencies.<br>\n",
              "<mark class=\"entity\" style=\"background: #aa9cfc; padding: 0.45em 0.6em; margin: 0 0.25em; line-height: 1; border-radius: 0.35em;\">\n",
              "    Rumor\n",
              "    <span style=\"font-size: 0.8em; font-weight: bold; line-height: 1; border-radius: 0.35em; vertical-align: middle; margin-left: 0.5rem\">PERSON</span>\n",
              "</mark>\n",
              " had it that \n",
              "<mark class=\"entity\" style=\"background: #e4e7d2; padding: 0.45em 0.6em; margin: 0 0.25em; line-height: 1; border-radius: 0.35em;\">\n",
              "    one\n",
              "    <span style=\"font-size: 0.8em; font-weight: bold; line-height: 1; border-radius: 0.35em; vertical-align: middle; margin-left: 0.5rem\">CARDINAL</span>\n",
              "</mark>\n",
              " cloud contained the memory of a future not yet lived—a prophecy encrypted by the last \n",
              "<mark class=\"entity\" style=\"background: #aa9cfc; padding: 0.45em 0.6em; margin: 0 0.25em; line-height: 1; border-radius: 0.35em;\">\n",
              "    Oracle\n",
              "    <span style=\"font-size: 0.8em; font-weight: bold; line-height: 1; border-radius: 0.35em; vertical-align: middle; margin-left: 0.5rem\">PERSON</span>\n",
              "</mark>\n",
              " before she vanished into a windstorm.<br>Though many sought it, only those with silence in their hearts and questions in their souls could ever begin to understand its meaning.<br></div></span>"
            ]
          },
          "metadata": {}
        }
      ]
    },
    {
      "cell_type": "code",
      "metadata": {
        "colab": {
          "base_uri": "https://localhost:8080/"
        },
        "id": "ebe50c35",
        "outputId": "24af3d88-4b49-4edc-d623-03b7d6df9af4"
      },
      "source": [
        "import nltk\n",
        "nltk.download('punkt_tab')"
      ],
      "execution_count": 8,
      "outputs": [
        {
          "output_type": "stream",
          "name": "stderr",
          "text": [
            "[nltk_data] Downloading package punkt_tab to /root/nltk_data...\n",
            "[nltk_data]   Unzipping tokenizers/punkt_tab.zip.\n"
          ]
        },
        {
          "output_type": "execute_result",
          "data": {
            "text/plain": [
              "True"
            ]
          },
          "metadata": {},
          "execution_count": 8
        }
      ]
    },
    {
      "cell_type": "code",
      "metadata": {
        "colab": {
          "base_uri": "https://localhost:8080/"
        },
        "id": "3951966d",
        "outputId": "da955011-4d14-48d6-b1a8-7987dd7f6e49"
      },
      "source": [
        "import nltk\n",
        "nltk.download('averaged_perceptron_tagger_eng')"
      ],
      "execution_count": 17,
      "outputs": [
        {
          "output_type": "stream",
          "name": "stderr",
          "text": [
            "[nltk_data] Downloading package averaged_perceptron_tagger_eng to\n",
            "[nltk_data]     /root/nltk_data...\n",
            "[nltk_data]   Unzipping taggers/averaged_perceptron_tagger_eng.zip.\n"
          ]
        },
        {
          "output_type": "execute_result",
          "data": {
            "text/plain": [
              "True"
            ]
          },
          "metadata": {},
          "execution_count": 17
        }
      ]
    }
  ],
  "metadata": {
    "kernelspec": {
      "display_name": "Python 3",
      "language": "python",
      "name": "python3"
    },
    "language_info": {
      "name": "python"
    },
    "colab": {
      "provenance": []
    }
  },
  "nbformat": 4,
  "nbformat_minor": 0
}