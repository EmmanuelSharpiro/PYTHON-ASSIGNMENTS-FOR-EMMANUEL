{
  "nbformat": 4,
  "nbformat_minor": 0,
  "metadata": {
    "colab": {
      "provenance": []
    },
    "kernelspec": {
      "name": "python3",
      "display_name": "Python 3"
    },
    "language_info": {
      "name": "python"
    }
  },
  "cells": [
    {
      "cell_type": "code",
      "source": [
        "# Python Basics Assignment 1 - Complete Script\n",
        "\n",
        "# ----------------------------------------\n",
        "# SECTION 1: Numerical Data Types & Arithmetic Operators\n",
        "# ----------------------------------------\n"
      ],
      "metadata": {
        "id": "pk8zMgbhQA3P"
      },
      "execution_count": 30,
      "outputs": []
    },
    {
      "cell_type": "code",
      "source": [
        "# Your car's fuel efficiency is 11.5 km/L\n",
        "# Total trip distance = 475 km\n",
        "# Fuel price = $1.65/L\n",
        "# Tank capacity = 50 L\n",
        "# Start with a full tank\n"
      ],
      "metadata": {
        "id": "8t_bsdlEQDt9"
      },
      "execution_count": null,
      "outputs": []
    },
    {
      "cell_type": "code",
      "source": [
        "# a. How many liters of fuel needed for the entire trip?\n",
        "fuel_needed = 475 / 11.5\n",
        "print(\"1a. Fuel needed:\", fuel_needed)"
      ],
      "metadata": {
        "colab": {
          "base_uri": "https://localhost:8080/"
        },
        "id": "8EdKuXJBQPC1",
        "outputId": "f39e5613-09dd-4e39-86f4-9bafe1c179e4"
      },
      "execution_count": null,
      "outputs": [
        {
          "output_type": "stream",
          "name": "stdout",
          "text": [
            "1a. Fuel needed: 41.30434782608695\n"
          ]
        }
      ]
    },
    {
      "cell_type": "code",
      "source": [
        "# Explanation:\n",
        "# Dividing distance by fuel efficiency gives total fuel needed."
      ],
      "metadata": {
        "id": "ohJ012msSjYr"
      },
      "execution_count": null,
      "outputs": []
    },
    {
      "cell_type": "code",
      "source": [
        "# b. How many full tanks of fuel does this represent?\n",
        "full_tanks = 475 // (11.5 * 50)\n",
        "print(\"1b. Full tanks needed (whole):\", full_tanks)"
      ],
      "metadata": {
        "colab": {
          "base_uri": "https://localhost:8080/"
        },
        "id": "NkHynoOfSsvA",
        "outputId": "d8a0d37e-3c97-4049-b978-e3a1f222b169"
      },
      "execution_count": null,
      "outputs": [
        {
          "output_type": "stream",
          "name": "stdout",
          "text": [
            "1b. Full tanks needed (whole): 0.0\n"
          ]
        }
      ]
    },
    {
      "cell_type": "code",
      "source": [
        "# Explanation:\n",
        "# Each full tank covers 575 km, more than the trip distance.\n",
        "# Hence, no full refueling needed during trip."
      ],
      "metadata": {
        "id": "gXExU9dGS0Ra"
      },
      "execution_count": null,
      "outputs": []
    },
    {
      "cell_type": "code",
      "source": [
        "# c. Total estimated fuel cost for the trip\n",
        "fuel_cost = fuel_needed * 1.65\n",
        "print(\"1c. Total fuel cost: $\", fuel_cost)"
      ],
      "metadata": {
        "colab": {
          "base_uri": "https://localhost:8080/"
        },
        "id": "tgpJkpAHS7qj",
        "outputId": "c627e7ba-fb54-45a2-c856-afad991ea304"
      },
      "execution_count": null,
      "outputs": [
        {
          "output_type": "stream",
          "name": "stdout",
          "text": [
            "1c. Total fuel cost: $ 68.15217391304347\n"
          ]
        }
      ]
    },
    {
      "cell_type": "code",
      "source": [
        "# Explanation:\n",
        "# Multiply fuel needed by price per liter."
      ],
      "metadata": {
        "id": "fp5TPzV-TALc"
      },
      "execution_count": null,
      "outputs": []
    },
    {
      "cell_type": "code",
      "source": [
        "# d. Fuel remaining in tank after the trip\n",
        "remaining_fuel = 50 - fuel_needed\n",
        "print(\"1d. Remaining fuel (liters):\", remaining_fuel)"
      ],
      "metadata": {
        "colab": {
          "base_uri": "https://localhost:8080/"
        },
        "id": "GD-7xEYbTK99",
        "outputId": "cb26dadc-bc52-4eb4-dfa0-f631d150d6d8"
      },
      "execution_count": null,
      "outputs": [
        {
          "output_type": "stream",
          "name": "stdout",
          "text": [
            "1d. Remaining fuel (liters): 8.695652173913047\n"
          ]
        }
      ]
    },
    {
      "cell_type": "code",
      "source": [
        "# Explanation:\n",
        "# Starting with a full tank, subtract fuel used."
      ],
      "metadata": {
        "id": "6BTLsyKKTNVk"
      },
      "execution_count": null,
      "outputs": []
    },
    {
      "cell_type": "code",
      "source": [
        "# SECTION 2: Comparison & Logical Operators"
      ],
      "metadata": {
        "id": "A0T_k4_eTxit"
      },
      "execution_count": 31,
      "outputs": []
    },
    {
      "cell_type": "code",
      "source": [
        "# Initial values\n",
        "age = 30\n",
        "is_weekday = True\n",
        "is_family_day = False\n",
        "group_size = 3"
      ],
      "metadata": {
        "id": "NEE3R4UUT2Gm"
      },
      "execution_count": null,
      "outputs": []
    },
    {
      "cell_type": "code",
      "source": [
        "# a. Comprehensive boolean expression for discount eligibility\n",
        "discount = (age <= 12 and is_weekday) or (age >= 65) or (is_family_day and group_size >= 4)\n",
        "print(\"2a. Discount eligibility (initial values):\", discount)"
      ],
      "metadata": {
        "colab": {
          "base_uri": "https://localhost:8080/"
        },
        "id": "73lxBiPPT552",
        "outputId": "430aaeab-3f17-45e6-e30e-6d571695738c"
      },
      "execution_count": null,
      "outputs": [
        {
          "output_type": "stream",
          "name": "stdout",
          "text": [
            "2a. Discount eligibility (initial values): False\n"
          ]
        }
      ]
    },
    {
      "cell_type": "code",
      "source": [
        "# Explanation:\n",
        "# No condition is met (not a child, not a senior, not on family day)."
      ],
      "metadata": {
        "id": "Pd0fy3BlT_1F"
      },
      "execution_count": 19,
      "outputs": []
    },
    {
      "cell_type": "code",
      "source": [
        "# b. New scenario\n",
        "age = 10\n",
        "is_weekday = True\n",
        "is_family_day = False\n",
        "group_size = 2"
      ],
      "metadata": {
        "id": "9_IKeZk9XUJZ"
      },
      "execution_count": 20,
      "outputs": []
    },
    {
      "cell_type": "code",
      "source": [
        "discount = (age <= 12 and is_weekday) or (age >= 65) or (is_family_day and group_size >= 4)\n",
        "print(\"2b. Discount eligibility (child scenario):\", discount)"
      ],
      "metadata": {
        "colab": {
          "base_uri": "https://localhost:8080/"
        },
        "id": "NRaq-1cPXcoV",
        "outputId": "2295f767-4011-4fe3-b9f5-e35c2b88c4d5"
      },
      "execution_count": 21,
      "outputs": [
        {
          "output_type": "stream",
          "name": "stdout",
          "text": [
            "2b. Discount eligibility (child scenario): True\n"
          ]
        }
      ]
    },
    {
      "cell_type": "code",
      "source": [
        "# SECTION 3: String Indexing & Slicing"
      ],
      "metadata": {
        "id": "t_fHOJxrXsJl"
      },
      "execution_count": 32,
      "outputs": []
    },
    {
      "cell_type": "code",
      "source": [
        "secret_message = \"PyThoN_Is_FuN_AnD_PoWeRfUl!\""
      ],
      "metadata": {
        "id": "v6zdFZ3JXzMO"
      },
      "execution_count": 23,
      "outputs": []
    },
    {
      "cell_type": "code",
      "source": [
        "# a. Character at index 5\n",
        "print(\"3a. Character at index 5:\", secret_message[5])"
      ],
      "metadata": {
        "colab": {
          "base_uri": "https://localhost:8080/"
        },
        "id": "c_RXu48FX2xF",
        "outputId": "92bb5a4c-085c-4872-db95-74b6973e6ea7"
      },
      "execution_count": 24,
      "outputs": [
        {
          "output_type": "stream",
          "name": "stdout",
          "text": [
            "3a. Character at index 5: N\n"
          ]
        }
      ]
    },
    {
      "cell_type": "code",
      "source": [
        "# b. Extract \"Is_FuN\" using positive indexing\n",
        "substring_pos = secret_message[7:13]\n",
        "print(\"3b. Substring using positive indexing:\", substring_pos)"
      ],
      "metadata": {
        "colab": {
          "base_uri": "https://localhost:8080/"
        },
        "id": "i5NZ_HD5X649",
        "outputId": "1088bd1c-f613-40fc-acfa-230bf65f7848"
      },
      "execution_count": 25,
      "outputs": [
        {
          "output_type": "stream",
          "name": "stdout",
          "text": [
            "3b. Substring using positive indexing: Is_FuN\n"
          ]
        }
      ]
    },
    {
      "cell_type": "code",
      "source": [
        "# c. Extract \"PoWeRfUl\" using negative indexing\n",
        "substring_neg = secret_message[-9:-1]\n",
        "print(\"3c. Substring using negative indexing:\", substring_neg)"
      ],
      "metadata": {
        "colab": {
          "base_uri": "https://localhost:8080/"
        },
        "id": "Wm03UcmhX_KF",
        "outputId": "48e981bf-8e84-4d09-9eab-faa895c02d51"
      },
      "execution_count": 26,
      "outputs": [
        {
          "output_type": "stream",
          "name": "stdout",
          "text": [
            "3c. Substring using negative indexing: PoWeRfUl\n"
          ]
        }
      ]
    },
    {
      "cell_type": "code",
      "source": [
        "# d. Every 4th character starting from index 0\n",
        "every_fourth = secret_message[0::4]\n",
        "print(\"3d. Every 4th character:\", every_fourth)"
      ],
      "metadata": {
        "colab": {
          "base_uri": "https://localhost:8080/"
        },
        "id": "fbb_23HgYDvm",
        "outputId": "00f83971-1269-4c4a-ee54-90c9c47c9e98"
      },
      "execution_count": 27,
      "outputs": [
        {
          "output_type": "stream",
          "name": "stdout",
          "text": [
            "3d. Every 4th character: PosNDWU\n"
          ]
        }
      ]
    },
    {
      "cell_type": "code",
      "source": [
        "# e. What happens if you access index 50?\n",
        "try:\n",
        "    print(secret_message[50])\n",
        "except IndexError as e:\n",
        "    print(\"3e. Error accessing index 50:\", e)"
      ],
      "metadata": {
        "colab": {
          "base_uri": "https://localhost:8080/"
        },
        "id": "bx6C9ffHYLJ8",
        "outputId": "aa7d7cdf-a871-418b-8e84-0c85198822fe"
      },
      "execution_count": 28,
      "outputs": [
        {
          "output_type": "stream",
          "name": "stdout",
          "text": [
            "3e. Error accessing index 50: string index out of range\n"
          ]
        }
      ]
    },
    {
      "cell_type": "code",
      "source": [
        "# SECTION 4: Boolean Values & Expressions"
      ],
      "metadata": {
        "id": "4k5rvBEMYSQd"
      },
      "execution_count": 33,
      "outputs": []
    },
    {
      "cell_type": "code",
      "source": [
        "x = 15\n",
        "y = 25\n",
        "z = 15\n",
        "text = \"adventure\""
      ],
      "metadata": {
        "id": "oYIYwIZIYwVs"
      },
      "execution_count": 34,
      "outputs": []
    },
    {
      "cell_type": "code",
      "source": [
        "# a. (x == z) and (y > x)\n",
        "print(\"4a. (x == z) and (y > x):\", (x == z) and (y > x))"
      ],
      "metadata": {
        "colab": {
          "base_uri": "https://localhost:8080/"
        },
        "id": "r9th96wjY1Ys",
        "outputId": "ef7597b4-0c53-4e72-97f8-ca59d6f4067c"
      },
      "execution_count": 35,
      "outputs": [
        {
          "output_type": "stream",
          "name": "stdout",
          "text": [
            "4a. (x == z) and (y > x): True\n"
          ]
        }
      ]
    },
    {
      "cell_type": "code",
      "source": [
        "# b. (x != z) or (y < x) or (len(text) < 5)\n",
        "print(\"4b. Complex OR expression:\", (x != z) or (y < x) or (len(text) < 5))"
      ],
      "metadata": {
        "colab": {
          "base_uri": "https://localhost:8080/"
        },
        "id": "Zy7DWcxHY5i8",
        "outputId": "d282ef72-5cd5-41a1-b5f4-947c7d554501"
      },
      "execution_count": 36,
      "outputs": [
        {
          "output_type": "stream",
          "name": "stdout",
          "text": [
            "4b. Complex OR expression: False\n"
          ]
        }
      ]
    },
    {
      "cell_type": "code",
      "source": [
        "# c. not ((x > y) and (text == \"Adventure\"))\n",
        "print(\"4c. Negated AND expression:\", not ((x > y) and (text == \"Adventure\")))"
      ],
      "metadata": {
        "colab": {
          "base_uri": "https://localhost:8080/"
        },
        "id": "-5_P3jkJY-HV",
        "outputId": "bd2e9e45-6a3d-414b-e526-efe657f4367d"
      },
      "execution_count": 37,
      "outputs": [
        {
          "output_type": "stream",
          "name": "stdout",
          "text": [
            "4c. Negated AND expression: True\n"
          ]
        }
      ]
    },
    {
      "cell_type": "code",
      "source": [
        "# SECTION 5: String Properties & Methods"
      ],
      "metadata": {
        "id": "v5mj6LBzZDbj"
      },
      "execution_count": 38,
      "outputs": []
    },
    {
      "cell_type": "code",
      "source": [
        "# a. Trying to change a character in a string\n",
        "username = \"MyUser123\"\n",
        "try:\n",
        "    username[0] = 'm'\n",
        "except TypeError as e:\n",
        "    print(\"5a. Error modifying string:\", e)"
      ],
      "metadata": {
        "colab": {
          "base_uri": "https://localhost:8080/"
        },
        "id": "Dr4qAd_WZOYz",
        "outputId": "ad2b5a19-f2a2-4557-f952-d69be4cad276"
      },
      "execution_count": 39,
      "outputs": [
        {
          "output_type": "stream",
          "name": "stdout",
          "text": [
            "5a. Error modifying string: 'str' object does not support item assignment\n"
          ]
        }
      ]
    },
    {
      "cell_type": "code",
      "source": [
        "# Explanation:\n",
        "# Strings in Python are immutable. You cannot assign a new value to a character."
      ],
      "metadata": {
        "id": "txpiFmQ9ZUBr"
      },
      "execution_count": 40,
      "outputs": []
    },
    {
      "cell_type": "code",
      "source": [
        "# b. Quote transformations\n",
        "quote = \" practice makes perfect \""
      ],
      "metadata": {
        "id": "5Rmpwo-rZbOb"
      },
      "execution_count": 41,
      "outputs": []
    },
    {
      "cell_type": "code",
      "source": [
        "# Step 1: Strip whitespace\n",
        "# Step 2: Convert to uppercase\n",
        "# Step 3: Replace \"PERFECT\" with \"PROGRESS\"\n",
        "formatted_quote = quote.strip().upper().replace(\"PERFECT\", \"PROGRESS\")\n",
        "print(\"5b. Formatted quote:\", formatted_quote)"
      ],
      "metadata": {
        "colab": {
          "base_uri": "https://localhost:8080/"
        },
        "id": "z6fevNuOZgn0",
        "outputId": "bbba0904-d9d0-4826-bd6c-719710a66d32"
      },
      "execution_count": 42,
      "outputs": [
        {
          "output_type": "stream",
          "name": "stdout",
          "text": [
            "5b. Formatted quote: PRACTICE MAKES PROGRESS\n"
          ]
        }
      ]
    },
    {
      "cell_type": "code",
      "source": [
        "# Explanation:\n",
        "# strip() removes whitespace\n",
        "# upper() converts all letters to uppercase\n",
        "# replace() substitutes the word"
      ],
      "metadata": {
        "id": "Wqi4YoRdZvYz"
      },
      "execution_count": 43,
      "outputs": []
    },
    {
      "cell_type": "code",
      "source": [
        "# c. Length comparison\n",
        "original_length = len(quote)\n",
        "formatted_length = len(formatted_quote)\n"
      ],
      "metadata": {
        "id": "R7V_ESQ_Z4Mi"
      },
      "execution_count": 44,
      "outputs": []
    },
    {
      "cell_type": "code",
      "source": [
        "print(\"5c. Original quote length:\", original_length)\n",
        "print(\"5c. Formatted quote length:\", formatted_length)\n",
        "# Output: 25 and 23"
      ],
      "metadata": {
        "colab": {
          "base_uri": "https://localhost:8080/"
        },
        "id": "tKFuX_0-aE4S",
        "outputId": "5f16a9dd-0294-4f06-c559-3cb4f8b36cbf"
      },
      "execution_count": 45,
      "outputs": [
        {
          "output_type": "stream",
          "name": "stdout",
          "text": [
            "5c. Original quote length: 24\n",
            "5c. Formatted quote length: 23\n"
          ]
        }
      ]
    },
    {
      "cell_type": "code",
      "source": [
        "# Explanation:\n",
        "# Original quote has spaces (length 25), formatted one is shorter (23) due to strip and replacement."
      ],
      "metadata": {
        "id": "O92_8mvqaJL9"
      },
      "execution_count": 46,
      "outputs": []
    }
  ]
}